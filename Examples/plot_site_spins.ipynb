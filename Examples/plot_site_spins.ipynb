{
 "cells": [
  {
   "attachments": {},
   "cell_type": "markdown",
   "metadata": {},
   "source": [
    "# Generate lattice bonds, sites A and B"
   ]
  },
  {
   "cell_type": "code",
   "execution_count": 3,
   "metadata": {},
   "outputs": [],
   "source": [
    "import numpy as np\n",
    "\n",
    "def coordinate(j, Lx, Ly):\n",
    "    x = j % Lx + 1\n",
    "    ## With this notation the top left site is 0\n",
    "    y = Ly - (j // Lx + 1) + 1\n",
    "    if y % 2 == 1 and ((y + 1)/2) % 2 == 1:\n",
    "        return (x, ((y + 1)/2) * np.sqrt(3)/2)\n",
    "    if y % 2 == 1 and ((y + 1)/2) % 2 == 0:\n",
    "        return (x + 1/2, ((y + 1)/2) * np.sqrt(3)/2)\n",
    "    if y % 2 == 0 and (y/2) % 2 == 0:\n",
    "        return (x, (y/2) * np.sqrt(3)/2 + 1/(2*np.sqrt(3)))\n",
    "    if y % 2 == 0 and (y/2) % 2 == 1:\n",
    "        return (x + 1/2, (y/2) * np.sqrt(3)/2 + 1/(2*np.sqrt(3)))\n",
    "\n",
    "def DivisibleQ(x, b):\n",
    "    if np.remainder(x, b) == 0:\n",
    "        return True\n",
    "    else:\n",
    "        return False\n",
    "    \n",
    "def hopping_list(Lx, Ly):\n",
    "    test = []        \n",
    "    for i in range(Lx*Ly):\n",
    "        if DivisibleQ(np.floor_divide(i, Lx), 4) == True:\n",
    "            if np.remainder(i, Lx) == 0:\n",
    "                test.append((i,i + Lx))\n",
    "                test.append((i,i + 2*Lx-1))\n",
    "                if i-Lx>0:\n",
    "                    test.append((i,i-Lx))        \n",
    "            else:\n",
    "                test.append((i,i + Lx-1))\n",
    "                test.append((i,i + Lx))\n",
    "                if i-Lx>0:\n",
    "                    test.append((i,i-Lx))\n",
    "        if DivisibleQ(np.floor_divide(i, Lx) + 2, 4) == True:\n",
    "            if np.remainder(i, Lx) == Lx-1:\n",
    "                test.append((i,i+Lx))\n",
    "                test.append((i,i+1))\n",
    "                test.append((i,i-Lx))\n",
    "            else:\n",
    "                test.append((i,i+Lx+1))\n",
    "                test.append((i,i+Lx))\n",
    "                test.append((i,i-Lx))\n",
    "    return test"
   ]
  },
  {
   "cell_type": "code",
   "execution_count": 8,
   "metadata": {},
   "outputs": [],
   "source": [
    "# 3D plot\n",
    "\n",
    "Lx = 100\n",
    "Ly = 24\n",
    "\n",
    "data = []\n",
    "for j in hopping_list(Lx, Ly):\n",
    "    x1 = coordinate(j[0], Lx, Ly)[0]\n",
    "    x2 = coordinate(j[1], Lx, Ly)[0]\n",
    "    y1 = coordinate(j[0], Lx, Ly)[1]\n",
    "    y2 = coordinate(j[1], Lx, Ly)[1]\n",
    "    if abs(x1 - x2) < 25:\n",
    "        data.append((x1, y1, 0, x2, y2, 0))\n",
    "data\n",
    "np.savetxt('data/mathematica_3D_lattice_bond_L'+str(Lx)+'W'+str(Ly)+'.txt', data)\n",
    "\n",
    "\n",
    "siteA = []\n",
    "siteB = []\n",
    "for j in range(Lx*Ly):\n",
    "    x1 = coordinate(j, Lx, Ly)[0]\n",
    "    y1 = coordinate(j, Lx, Ly)[1]\n",
    "    if (j//Lx) % 2 == 1:\n",
    "        siteA.append((x1, y1, 0))\n",
    "    else:\n",
    "        siteB.append((x1, y1, 0))\n",
    "        \n",
    "np.savetxt('data/mathematica_3D_siteA_L'+str(Lx)+'W'+str(Ly)+'.txt', siteA)\n",
    "np.savetxt('data/mathematica_3D_siteB_L'+str(Lx)+'W'+str(Ly)+'.txt', siteB)"
   ]
  },
  {
   "attachments": {},
   "cell_type": "markdown",
   "metadata": {},
   "source": [
    "# Generate data for Mathematica"
   ]
  },
  {
   "cell_type": "code",
   "execution_count": 12,
   "metadata": {},
   "outputs": [],
   "source": [
    "import numpy as np\n",
    "\n",
    "Lx = 100\n",
    "Ly = 24\n",
    "U=2\n",
    "gamma=0.7\n",
    "data_up = []\n",
    "data_dn = []\n",
    "quantity = np.loadtxt('data/sz_clean_L'+str(Lx)+'W'+str(Ly)+'_U'+str(U)+'_gamma'+str(gamma)+'.txt')\n",
    "\n",
    "\n",
    "### Plot hopping lines\n",
    "for j in range(Lx*Ly):\n",
    "    x1 = coordinate(j, Lx, Ly)[0]\n",
    "    y1 = coordinate(j, Lx, Ly)[1]\n",
    "    if quantity[j]<=0:\n",
    "        data_dn.append((x1, y1, 0, x1, y1, quantity[j]))\n",
    "    else:\n",
    "        data_up.append((x1, y1, 0, x1, y1, quantity[j]))\n",
    "\n",
    "np.savetxt('data/mathematica_sz_dn_L'+str(Lx)+'W'+str(Ly)+'_U'+str(U)+'_g'+str(gamma)+'.txt', data_dn)\n",
    "np.savetxt('data/mathematica_sz_up_L'+str(Lx)+'W'+str(Ly)+'_U'+str(U)+'_g'+str(gamma)+'.txt', data_up)"
   ]
  },
  {
   "cell_type": "code",
   "execution_count": null,
   "metadata": {},
   "outputs": [],
   "source": []
  },
  {
   "cell_type": "code",
   "execution_count": null,
   "metadata": {},
   "outputs": [],
   "source": []
  },
  {
   "cell_type": "code",
   "execution_count": null,
   "metadata": {},
   "outputs": [],
   "source": []
  },
  {
   "cell_type": "code",
   "execution_count": null,
   "metadata": {},
   "outputs": [],
   "source": []
  },
  {
   "cell_type": "code",
   "execution_count": null,
   "metadata": {},
   "outputs": [],
   "source": []
  }
 ],
 "metadata": {
  "kernelspec": {
   "display_name": "base",
   "language": "python",
   "name": "python3"
  },
  "language_info": {
   "codemirror_mode": {
    "name": "ipython",
    "version": 3
   },
   "file_extension": ".py",
   "mimetype": "text/x-python",
   "name": "python",
   "nbconvert_exporter": "python",
   "pygments_lexer": "ipython3",
   "version": "3.9.7"
  },
  "orig_nbformat": 4,
  "vscode": {
   "interpreter": {
    "hash": "8a97ea607f164b174a9030946ef42297b17bab2cc56316e4928da9d863325e8b"
   }
  }
 },
 "nbformat": 4,
 "nbformat_minor": 2
}
